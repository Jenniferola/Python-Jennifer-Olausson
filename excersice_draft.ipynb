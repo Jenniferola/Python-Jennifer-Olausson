{
 "cells": [
  {
   "cell_type": "markdown",
   "metadata": {},
   "source": [
    "# Lektionsuppgifter\n",
    "### (1/9-23)\n",
    "\n",
    "\n",
    "**If-statements**"
   ]
  },
  {
   "cell_type": "markdown",
   "metadata": {},
   "source": [
    "1. Ask the user to input a number and check if this number is positive, negative or zero and print it out."
   ]
  },
  {
   "cell_type": "code",
   "execution_count": 20,
   "metadata": {},
   "outputs": [
    {
     "name": "stdout",
     "output_type": "stream",
     "text": [
      "Your number is positive!\n"
     ]
    }
   ],
   "source": [
    "Number = int(input (\"Please input a number\"))\n",
    "\n",
    "if   Number > 0:\n",
    "    print(\"Your number is positive!\")\n",
    "elif Number <0:\n",
    "    print(\"Your number is negative!\")\n",
    "elif Number == 0:\n",
    "    print(\"Your number is zero!\")\n"
   ]
  },
  {
   "cell_type": "markdown",
   "metadata": {},
   "source": [
    "2. Ask the user to input two numbers and check which one is the smallest and print it out."
   ]
  },
  {
   "cell_type": "code",
   "execution_count": 22,
   "metadata": {},
   "outputs": [
    {
     "name": "stdout",
     "output_type": "stream",
     "text": [
      "You choose the numbers 2 and 6!\n",
      "2 is the smallest number!\n"
     ]
    }
   ],
   "source": [
    "Number1 = int(input(\"Write a number please.\"))\n",
    "Number2 = int(input(\"Write another number please.\")) \n",
    "\n",
    "print(f\"You choose the numbers {Number1} and {Number2}.\")\n",
    "\n",
    "if Number1 < Number2:\n",
    "    print(f\"{Number1} is the smallest number!\")\n",
    "elif Number2 < Number1:\n",
    "    print(f\"{Number2} is the smallest number!\")"
   ]
  },
  {
   "cell_type": "markdown",
   "metadata": {},
   "source": [
    "3. Ask the user to input three angles and check if the triangle has a right angle. Your code should make sure that all three angles are valid and make up a triangle."
   ]
  },
  {
   "cell_type": "code",
   "execution_count": 46,
   "metadata": {},
   "outputs": [
    {
     "name": "stdout",
     "output_type": "stream",
     "text": [
      "Sorry, your angles does not make ut a triangle\n",
      "Your triangle does NOT have a right angle.\n",
      "End.\n"
     ]
    }
   ],
   "source": [
    "\n",
    "while True: \n",
    "    angle1 = int(input(\"Write one of three angles to make a triangle please.\"))\n",
    "    angle2 = int(input(\"Write the second of three angles to make a triangle please.\"))\n",
    "    angle3 = int(input(\"Write the third of three angles to make a triangle please.\"))\n",
    "    threeAngles = angle1 + angle2 + angle3\n",
    "\n",
    "    if threeAngles == 180:\n",
    "        if angle1 == 90 or angle2 == 90 or angle3 == 90:   \n",
    "            print (\"Your triangle has a right angle!\")\n",
    "            break\n",
    "        else: \n",
    "            print (\"Your triangle does NOT have a right angle.\")\n",
    "            break\n",
    "    else:\n",
    "        print(\"Sorry, your angles does not make ut a triangle\")\n",
    "\n",
    "print(\"End.\")\n",
    "\n",
    "\n",
    "\n"
   ]
  },
  {
   "cell_type": "markdown",
   "metadata": {},
   "source": [
    "4. The information in the following table is stated in a medicine package. Also it is stated that for children weight is more important than age.\n",
    "Let the user input an age and a weight, the program should recommend the number of pills for the user.\n"
   ]
  },
  {
   "cell_type": "code",
   "execution_count": 66,
   "metadata": {},
   "outputs": [
    {
     "name": "stdout",
     "output_type": "stream",
     "text": [
      "Please answer the two following questions to get a recommendation of how many pills you should take:\n",
      "You are 1 years old and your weight is 20 kg.\n"
     ]
    }
   ],
   "source": [
    "print (\"Please answer the two following questions to get a recommendation of how many pills you should take:\")\n",
    "age = int(input(\"How old are you?\"))\n",
    "weight = int(input(\"How much do you weigh?\"))\n",
    "\n",
    "print(f\"You are {age} years old and your weight is {weight} kg.\")\n",
    "\n",
    "if age > 12:\n",
    "    print(\"Because you are an adult, our recommendation is for you to take 1-2 pills.\")\n",
    "elif age >= 7 and age <=12:\n",
    "    if weight >= 26:\n",
    "        print(\"Because you are a child and your weight is over 40 kg, you are recommended 1-2 pills.\")\n",
    "    elif weight >= 15 and weight <=26:\n",
    "        print(\"Because you are a child and your weight is somewhere between 15-26 kg, you are recommended 1/2 pill.\")\n",
    "    elif weight > 15:\n",
    "        print(\"Because you are a child and your weight is somewhere below less than 15 kg, you are NOT recommended to use this pill.\")\n",
    "elif age >=3 and age <=6:\n",
    "    if weight >= 15 and weight <= 25:\n",
    "        print(\"Because you are a child and your weight is somewhere between 15-25 kg, you are recommended 1/2 pill.\")\n",
    "    elif weight >= 26 and weight <=40:\n",
    "        print(\"Because you are a child and your weight is somewhere between 15-25 kg, you are recommended 1/2-1 pill.\")\n",
    "    elif weight <15:\n",
    "        print(\"Because you are a child and your weight is somewhere below 15 kg, you are NOT recommended to use this pill.\")\n",
    "\n",
    "# Lägg tillom man är yngre än 3 år.\n",
    "\n"
   ]
  },
  {
   "cell_type": "markdown",
   "metadata": {},
   "source": [
    "**5.** \n",
    "Let the user input a number. Check if the number is\n",
    "\n",
    "even or odd\n",
    "is divisible by 5\n",
    "is divisble by 5 and odd"
   ]
  },
  {
   "cell_type": "code",
   "execution_count": 84,
   "metadata": {},
   "outputs": [
    {
     "name": "stdout",
     "output_type": "stream",
     "text": [
      "Ditt tal är ojämnt.\n",
      "Ditt tal är delbart med 5!\n",
      "Ditt tal är både delbart med 5 och ojämnt\n"
     ]
    }
   ],
   "source": [
    "Number = int(input(\"Please write a number\"))\n",
    "\n",
    "# If-sats som kollar om talet är jämnt eller ojämnt. Modulus % visar resten av en division. Om talet är jämnt är % == 0.\n",
    "if  Number % 2 == 0:\n",
    "    print(\"Ditt tal är jämnt!\")\n",
    "else: \n",
    "    print(\"Ditt tal är ojämnt.\")\n",
    "\n",
    "\n",
    "# If-sats som kollar om talet är delbart med 5. Modulus % visar resten av en division. Om talet är delbart med 5 är % == 0.\n",
    "if Number % 5 == 0:\n",
    "    print(\"Ditt tal är delbart med 5!\")\n",
    "else: \n",
    "    print(\"Ditt tal inte delbart med 5.\")\n",
    "\n",
    "#If-sats som kollar om talet både är delbart med 5 och ojämnt. \n",
    "if Number % 2 != 0 and Number % 5 == 0:\n",
    "    print(\"Ditt tal är både delbart med 5 och ojämnt\")\n",
    "else:\n",
    "    print(\"Ditt tal är INTE både delbart med fem och ojämnt.\")\n"
   ]
  },
  {
   "cell_type": "markdown",
   "metadata": {},
   "source": [
    "**6** The maximum allowed luggage size for boarding an airplane is:\n",
    "\n",
    "weight: 8kg\n",
    "dimensions: 55x40x23cm (length x width x height)\n",
    "Let the user input weight, length, width and height of the luggage. The program should check if the luggage is allowed or not."
   ]
  },
  {
   "cell_type": "code",
   "execution_count": 92,
   "metadata": {},
   "outputs": [
    {
     "name": "stdout",
     "output_type": "stream",
     "text": [
      "Please input the following parameters for your luggage to check if it is approved:\n",
      "Your luggage weight is unfortunally not approved.\n"
     ]
    }
   ],
   "source": [
    "print(\"Please input the following parameters for your luggage to check if it is approved:\")\n",
    "\n",
    "weight = int(input(\"What is the weight of your luggage?\"))\n",
    "length = int(input(\"What is the Length of your luggage?\"))\n",
    "width = int(input(\"What is the width of your luggage?\"))\n",
    "height = int(input(\"What is the height of your luggage?\"))\n",
    "\n",
    "if weight < 8:\n",
    "    if length < 55:\n",
    "        if width < 40:\n",
    "            if height < 23:\n",
    "                print(\"Your luggage is approved!\")\n",
    "else:\n",
    "    print(\"Your luggage weight is unfortunally not approved.\")\n",
    "\n",
    "\n",
    "\n",
    "\n"
   ]
  },
  {
   "cell_type": "markdown",
   "metadata": {},
   "source": [
    "\n",
    "**While-statements**"
   ]
  },
  {
   "cell_type": "markdown",
   "metadata": {},
   "source": [
    "**1** Use a while statement to count from -10 to 10 with one increment."
   ]
  },
  {
   "cell_type": "code",
   "execution_count": 5,
   "metadata": {},
   "outputs": [
    {
     "name": "stdout",
     "output_type": "stream",
     "text": [
      "-10\n",
      "-9\n",
      "-8\n",
      "-7\n",
      "-6\n",
      "-5\n",
      "-4\n",
      "-3\n",
      "-2\n",
      "-1\n",
      "0\n",
      "1\n",
      "2\n",
      "3\n",
      "4\n",
      "5\n",
      "6\n",
      "7\n",
      "8\n",
      "9\n",
      "10\n"
     ]
    }
   ],
   "source": [
    "i = -10\n",
    "\n",
    "while i < 11:\n",
    "    print(f\"{i}\")\n",
    "    i += 1"
   ]
  },
  {
   "cell_type": "markdown",
   "metadata": {},
   "source": [
    "**2.** A) Use a while statement to compute the following sums:"
   ]
  },
  {
   "cell_type": "markdown",
   "metadata": {},
   "source": []
  },
  {
   "cell_type": "code",
   "execution_count": 9,
   "metadata": {},
   "outputs": [
    {
     "name": "stdout",
     "output_type": "stream",
     "text": [
      "5050\n"
     ]
    }
   ],
   "source": [
    "i = 0\n",
    "sum = 0\n",
    "\n",
    "while i <101:\n",
    "    sum = sum + i\n",
    "    i += 1\n",
    "\n",
    "print(f\"{sum}\")"
   ]
  },
  {
   "cell_type": "markdown",
   "metadata": {},
   "source": [
    "B)"
   ]
  },
  {
   "cell_type": "code",
   "execution_count": 14,
   "metadata": {},
   "outputs": [
    {
     "name": "stdout",
     "output_type": "stream",
     "text": [
      "2500\n"
     ]
    }
   ],
   "source": [
    "i = 1\n",
    "sum = 0\n",
    "\n",
    "while i <100:\n",
    "    sum = sum + i\n",
    "    i += 2\n",
    "\n",
    "print(f\"{sum}\")"
   ]
  },
  {
   "cell_type": "markdown",
   "metadata": {},
   "source": [
    "**3** Create a guessing number game following this flow chart:"
   ]
  },
  {
   "cell_type": "code",
   "execution_count": 33,
   "metadata": {},
   "outputs": [
    {
     "name": "stdout",
     "output_type": "stream",
     "text": [
      "It was wrong. Number of guesses: 1.\n",
      "End.\n"
     ]
    }
   ],
   "source": [
    "import random\n",
    "\n",
    "randomNumber = random.randint(1,101)\n",
    "counter= 0\n",
    "\n",
    "playAgain = \"no\"\n",
    "\n",
    "while True:\n",
    "    userGuess = int(input(\"Guess for the right number?\"))\n",
    "\n",
    "    if randomNumber == userGuess:\n",
    "        print(\"Congratualtion! You guessed the right number!\")\n",
    "        break\n",
    "        \n",
    "    else:\n",
    "        counter += 1\n",
    "        print (f\"It was wrong. Number of guesses: {counter}.\")\n",
    "        playagain = input(\"Would you like to guess again? Write `no` if no.\")\n",
    "        if playAgain == \"no\":\n",
    "                break\n",
    "\n",
    "print(\"End.\")\n",
    "\n",
    "        "
   ]
  },
  {
   "cell_type": "markdown",
   "metadata": {},
   "source": [
    "B) Make an algorithm to automatically guess the correct number. Can you optimize to get as few guesses as possible?"
   ]
  },
  {
   "cell_type": "code",
   "execution_count": 40,
   "metadata": {},
   "outputs": [
    {
     "name": "stdout",
     "output_type": "stream",
     "text": [
      "Congratualtion! You guessed the right number! It was 68.\n",
      "End.\n"
     ]
    }
   ],
   "source": [
    "import random\n",
    "\n",
    "randomNumber = random.randint(1,101)\n",
    "\n",
    "guess=1\n",
    "i =0\n",
    "\n",
    "while randomNumber < 102:\n",
    "\n",
    "    guess\n",
    "\n",
    "    if randomNumber == guess:\n",
    "        print(f\"Congratualtion! You guessed the right number! It was {guess}.\")\n",
    "        break\n",
    "    else: \n",
    "        guess += 1   \n",
    "    \n",
    "        \n",
    "        \n",
    "\n",
    "print(\"End.\")\n",
    "\n",
    "        "
   ]
  },
  {
   "cell_type": "markdown",
   "metadata": {},
   "source": [
    "4) Create a multiplication game following this flow chart:"
   ]
  },
  {
   "cell_type": "code",
   "execution_count": null,
   "metadata": {},
   "outputs": [],
   "source": []
  }
 ],
 "metadata": {
  "kernelspec": {
   "display_name": "Python-Jennifer-Olausson-hAwDm4Uq",
   "language": "python",
   "name": "python3"
  },
  "language_info": {
   "codemirror_mode": {
    "name": "ipython",
    "version": 3
   },
   "file_extension": ".py",
   "mimetype": "text/x-python",
   "name": "python",
   "nbconvert_exporter": "python",
   "pygments_lexer": "ipython3",
   "version": "3.11.5"
  },
  "orig_nbformat": 4
 },
 "nbformat": 4,
 "nbformat_minor": 2
}
