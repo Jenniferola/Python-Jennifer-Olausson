{
 "cells": [
  {
   "cell_type": "code",
   "execution_count": null,
   "metadata": {},
   "outputs": [],
   "source": [
    "import numpy as np\n",
    "\n"
   ]
  },
  {
   "cell_type": "code",
   "execution_count": 4,
   "metadata": {},
   "outputs": [
    {
     "name": "stdout",
     "output_type": "stream",
     "text": [
      "10\n",
      "5\n"
     ]
    }
   ],
   "source": [
    "number = 9\n",
    "\n",
    "def math(number):\n",
    "    addition = number + 1\n",
    "    return addition\n",
    "\n",
    "def math_sub(number):\n",
    "    subtraktion = number -5\n",
    "    return subtraktion\n",
    "\n",
    "addition = math(number)\n",
    "\n",
    "print(addition)\n",
    "\n",
    "subtraktion = math_sub(addition)\n",
    "\n",
    "print(subtraktion)\n",
    "\n",
    "\n"
   ]
  }
 ],
 "metadata": {
  "kernelspec": {
   "display_name": "Python-Jennifer-Olausson-unNBHBj9",
   "language": "python",
   "name": "python3"
  },
  "language_info": {
   "codemirror_mode": {
    "name": "ipython",
    "version": 3
   },
   "file_extension": ".py",
   "mimetype": "text/x-python",
   "name": "python",
   "nbconvert_exporter": "python",
   "pygments_lexer": "ipython3",
   "version": "3.11.5"
  },
  "orig_nbformat": 4
 },
 "nbformat": 4,
 "nbformat_minor": 2
}
