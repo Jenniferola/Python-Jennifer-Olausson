{
 "cells": [
  {
   "cell_type": "markdown",
   "metadata": {},
   "source": [
    "# Lektion \n",
    "### (14/9)"
   ]
  },
  {
   "cell_type": "markdown",
   "metadata": {},
   "source": [
    "- Debugging. Hitta och lösa felet. Felsökning. Från insekt som störde datorer från förr. \n",
    "\n",
    "**Breakpoint**\n",
    "- Debug mode. In all IDE - utvecklingsmiljö (få upp debugging mode). \n",
    "- debug körningen kör raden innan den röda pricken. \n",
    "- glöm inte att tryck reset emellan. \n",
    "-step over kör funktionen men går inte in i den. Tryck step into isf. \n",
    "- route finding algoritm. Läs på! Även sorteringsalgoritmer. Finns bibliotek.\n",
    "- bubble sort. Långsam men enkel."
   ]
  },
  {
   "cell_type": "code",
   "execution_count": 6,
   "metadata": {},
   "outputs": [
    {
     "name": "stdout",
     "output_type": "stream",
     "text": [
      "Hello\n",
      "Hello\n",
      "Hello\n",
      "8\n"
     ]
    }
   ],
   "source": [
    "def greet(n):\n",
    "    for i in range(n):\n",
    "        print(\"Hello\")\n",
    "\n",
    "a = 5\n",
    "b = 3\n",
    "c = a + b\n",
    "\n",
    "greet(b)\n",
    "print(c)\n"
   ]
  }
 ],
 "metadata": {
  "kernelspec": {
   "display_name": "Python-Jennifer-Olausson-hAwDm4Uq",
   "language": "python",
   "name": "python3"
  },
  "language_info": {
   "codemirror_mode": {
    "name": "ipython",
    "version": 3
   },
   "file_extension": ".py",
   "mimetype": "text/x-python",
   "name": "python",
   "nbconvert_exporter": "python",
   "pygments_lexer": "ipython3",
   "version": "3.11.5"
  },
  "orig_nbformat": 4
 },
 "nbformat": 4,
 "nbformat_minor": 2
}
