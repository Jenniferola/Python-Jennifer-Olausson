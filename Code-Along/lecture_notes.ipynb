{
 "cells": [
  {
   "cell_type": "markdown",
   "metadata": {},
   "source": [
    "Lektion\n",
    "Scoope\n",
    "\n",
    "(21/0)\n"
   ]
  },
  {
   "cell_type": "markdown",
   "metadata": {},
   "source": [
    "- Alla funktioner högst upp i koden (ej blandat.)\n",
    "- local scope: only available locally in a function. Global: available through excecution. \n",
    "- variabler som skapas i exv i for-loop överlever utanför. \n",
    "-global name gäller fortsatt utanför. Annars skiljs global från lokal variabel. \n",
    "-funktion ska fungera fristående. Alltså ej global i funktion. "
   ]
  },
  {
   "cell_type": "markdown",
   "metadata": {},
   "source": [
    "- ... i definition som inte gör något. \n",
    "- call stack. Visar i debug ordningen med hur funktioner körs.\n",
    "- minnesdelen i stackflow är för högt. felmeddelande \"stack overflow\". \n",
    "-funktion recursive *repetera*\n",
    "-korta funktioner, gör en sak. strukturera. Funktioner väldigt enkelt- "
   ]
  },
  {
   "cell_type": "markdown",
   "metadata": {},
   "source": [
    "definitonen:\n",
    "- börja med main. \n",
    "- städa upp koden så tydlig. \n",
    "- stora bokstäver variabel, som inte är tänkt att ändras. Python har inte const som c#, men const är som stora bokstäver variable. \n",
    "- kolla upp .join\n",
    "- kolla upp zip\n",
    "-strip() efter en input tar bort meningen av om man lägger till mellanslag. .lower direkt efter .strip så blir både inputen fri från mellanslag samt de blir små bokstäver. Method chaining. \n",
    "när man lägger på metoder efter varandra. \n",
    "detaljer man inte behöver för att förstå kan man \n",
    "\n",
    "- random \"choice\"\n",
    "\n",
    "fråga:\n",
    "skapa listor o variabler ovanför funktioner. "
   ]
  }
 ],
 "metadata": {
  "language_info": {
   "name": "python"
  },
  "orig_nbformat": 4
 },
 "nbformat": 4,
 "nbformat_minor": 2
}
