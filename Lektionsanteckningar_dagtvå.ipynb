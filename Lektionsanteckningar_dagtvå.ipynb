{
 "cells": [
  {
   "cell_type": "markdown",
   "metadata": {},
   "source": [
    "# Programmering i Python"
   ]
  },
  {
   "cell_type": "markdown",
   "metadata": {},
   "source": [
    "\n",
    "*Lektion 2 (1/9-23)*\n"
   ]
  },
  {
   "cell_type": "markdown",
   "metadata": {},
   "source": [
    "# f-string (formatted string literals)\n",
    "- literal starts with f or F (börjar på)\n",
    "- variables or expressions can be inserted useing {}\n"
   ]
  },
  {
   "cell_type": "code",
   "execution_count": 13,
   "metadata": {},
   "outputs": [
    {
     "name": "stdout",
     "output_type": "stream",
     "text": [
      "Hej Anna, Niklas och Alice\n"
     ]
    }
   ],
   "source": [
    "namnEtt = \"Anna\"\n",
    "namnTwoNiklas = \"Niklas\"\n",
    "namnThree = \"Alice\"\n",
    "\n",
    "print(f\"Hej {namnEtt}, {namnTwoNiklas} och {namnThree}\")"
   ]
  }
 ],
 "metadata": {
  "kernelspec": {
   "display_name": "Python-Jennifer-Olausson-hAwDm4Uq",
   "language": "python",
   "name": "python3"
  },
  "language_info": {
   "codemirror_mode": {
    "name": "ipython",
    "version": 3
   },
   "file_extension": ".py",
   "mimetype": "text/x-python",
   "name": "python",
   "nbconvert_exporter": "python",
   "pygments_lexer": "ipython3",
   "version": "3.11.5"
  },
  "orig_nbformat": 4
 },
 "nbformat": 4,
 "nbformat_minor": 2
}
