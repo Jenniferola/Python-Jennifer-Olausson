{
 "cells": [
  {
   "cell_type": "markdown",
   "metadata": {},
   "source": [
    "# Lektionsuppgifter\n",
    "### (1/9-23)\n",
    "\n",
    "\n",
    "**If-statements**"
   ]
  },
  {
   "cell_type": "markdown",
   "metadata": {},
   "source": [
    "1. Ask the user to input a number and check if this number is positive, negative or zero and print it out."
   ]
  },
  {
   "cell_type": "code",
   "execution_count": null,
   "metadata": {
    "vscode": {
     "languageId": "plaintext"
    }
   },
   "outputs": [],
   "source": [
    "Number = int(input (\"Please input a number\"))\n",
    "\n",
    "if   Number > 0:\n",
    "    print(\"Your number is positive!\")\n",
    "elif Number <0:\n",
    "    print(\"Your number is negative!\")\n",
    "elif Number == 0:\n",
    "    print(\"Your number is zero!\")\n"
   ]
  },
  {
   "cell_type": "markdown",
   "metadata": {},
   "source": [
    "2. Ask the user to input two numbers and check which one is the smallest and print it out."
   ]
  },
  {
   "cell_type": "code",
   "execution_count": null,
   "metadata": {
    "vscode": {
     "languageId": "plaintext"
    }
   },
   "outputs": [],
   "source": [
    "Number1 = int(input(\"Write a number please.\"))\n",
    "Number2 = int(input(\"Write another number please.\")) \n",
    "\n",
    "print(f\"You choose the numbers {Number1} and {Number2}.\")\n",
    "\n",
    "if Number1 < Number2:\n",
    "    print(f\"{Number1} is the smallest number!\")\n",
    "elif Number2 < Number1:\n",
    "    print(f\"{Number2} is the smallest number!\")"
   ]
  },
  {
   "cell_type": "markdown",
   "metadata": {},
   "source": [
    "3. Ask the user to input three angles and check if the triangle has a right angle. Your code should make sure that all three angles are valid and make up a triangle."
   ]
  },
  {
   "cell_type": "code",
   "execution_count": null,
   "metadata": {
    "vscode": {
     "languageId": "plaintext"
    }
   },
   "outputs": [],
   "source": [
    "\n",
    "while True: \n",
    "    angle1 = int(input(\"Write one of three angles to make a triangle please.\"))\n",
    "    angle2 = int(input(\"Write the second of three angles to make a triangle please.\"))\n",
    "    angle3 = int(input(\"Write the third of three angles to make a triangle please.\"))\n",
    "    threeAngles = angle1 + angle2 + angle3\n",
    "\n",
    "    if threeAngles == 180:\n",
    "        if angle1 == 90 or angle2 == 90 or angle3 == 90:   \n",
    "            print (\"Your triangle has a right angle!\")\n",
    "            break\n",
    "        else: \n",
    "            print (\"Your triangle does NOT have a right angle.\")\n",
    "            break\n",
    "    else:\n",
    "        print(\"Sorry, your angles does not make ut a triangle\")\n",
    "\n",
    "print(\"End.\")\n",
    "\n",
    "\n",
    "\n"
   ]
  },
  {
   "cell_type": "markdown",
   "metadata": {},
   "source": [
    "4. The information in the following table is stated in a medicine package. Also it is stated that for children weight is more important than age.\n",
    "Let the user input an age and a weight, the program should recommend the number of pills for the user.\n"
   ]
  },
  {
   "cell_type": "code",
   "execution_count": null,
   "metadata": {
    "vscode": {
     "languageId": "plaintext"
    }
   },
   "outputs": [],
   "source": [
    "print (\"Please answer the two following questions to get a recommendation of how many pills you should take:\")\n",
    "age = int(input(\"How old are you?\"))\n",
    "weight = int(input(\"How much do you weigh?\"))\n",
    "\n",
    "print(f\"You are {age} years old and your weight is {weight} kg.\")\n",
    "\n",
    "if age > 12:\n",
    "    print(\"Because you are an adult, our recommendation is for you to take 1-2 pills.\")\n",
    "elif age >= 7 and age <=12:\n",
    "    if weight >= 26:\n",
    "        print(\"Because you are a child and your weight is over 40 kg, you are recommended 1-2 pills.\")\n",
    "    elif weight >= 15 and weight <=26:\n",
    "        print(\"Because you are a child and your weight is somewhere between 15-26 kg, you are recommended 1/2 pill.\")\n",
    "    elif weight > 15:\n",
    "        print(\"Because you are a child and your weight is somewhere below less than 15 kg, you are NOT recommended to use this pill.\")\n",
    "elif age >=3 and age <=6:\n",
    "    if weight >= 15 and weight <= 25:\n",
    "        print(\"Because you are a child and your weight is somewhere between 15-25 kg, you are recommended 1/2 pill.\")\n",
    "    elif weight >= 26 and weight <=40:\n",
    "        print(\"Because you are a child and your weight is somewhere between 15-25 kg, you are recommended 1/2-1 pill.\")\n",
    "    elif weight <15:\n",
    "        print(\"Because you are a child and your weight is somewhere below 15 kg, you are NOT recommended to use this pill.\")\n",
    "\n",
    "# Lägg tillom man är yngre än 3 år.\n",
    "\n"
   ]
  },
  {
   "cell_type": "markdown",
   "metadata": {},
   "source": [
    "**5.** \n",
    "Let the user input a number. Check if the number is\n",
    "\n",
    "even or odd\n",
    "is divisible by 5\n",
    "is divisble by 5 and odd"
   ]
  },
  {
   "cell_type": "code",
   "execution_count": null,
   "metadata": {
    "vscode": {
     "languageId": "plaintext"
    }
   },
   "outputs": [],
   "source": [
    "Number = int(input(\"Please write a number\"))\n",
    "\n",
    "# If-sats som kollar om talet är jämnt eller ojämnt. Modulus % visar resten av en division. Om talet är jämnt är % == 0.\n",
    "if  Number % 2 == 0:\n",
    "    print(\"Ditt tal är jämnt!\")\n",
    "else: \n",
    "    print(\"Ditt tal är ojämnt.\")\n",
    "\n",
    "\n",
    "# If-sats som kollar om talet är delbart med 5. Modulus % visar resten av en division. Om talet är delbart med 5 är % == 0.\n",
    "if Number % 5 == 0:\n",
    "    print(\"Ditt tal är delbart med 5!\")\n",
    "else: \n",
    "    print(\"Ditt tal inte delbart med 5.\")\n",
    "\n",
    "#If-sats som kollar om talet både är delbart med 5 och ojämnt. \n",
    "if Number % 2 != 0 and Number % 5 == 0:\n",
    "    print(\"Ditt tal är både delbart med 5 och ojämnt\")\n",
    "else:\n",
    "    print(\"Ditt tal är INTE både delbart med fem och ojämnt.\")\n"
   ]
  },
  {
   "cell_type": "markdown",
   "metadata": {},
   "source": [
    "**6** The maximum allowed luggage size for boarding an airplane is:\n",
    "\n",
    "weight: 8kg\n",
    "dimensions: 55x40x23cm (length x width x height)\n",
    "Let the user input weight, length, width and height of the luggage. The program should check if the luggage is allowed or not."
   ]
  },
  {
   "cell_type": "code",
   "execution_count": null,
   "metadata": {
    "vscode": {
     "languageId": "plaintext"
    }
   },
   "outputs": [],
   "source": [
    "print(\"Please input the following parameters for your luggage to check if it is approved:\")\n",
    "\n",
    "weight = int(input(\"What is the weight of your luggage?\"))\n",
    "length = int(input(\"What is the Length of your luggage?\"))\n",
    "width = int(input(\"What is the width of your luggage?\"))\n",
    "height = int(input(\"What is the height of your luggage?\"))\n",
    "\n",
    "if weight < 8:\n",
    "    if length < 55:\n",
    "        if width < 40:\n",
    "            if height < 23:\n",
    "                print(\"Your luggage is approved!\")\n",
    "else:\n",
    "    print(\"Your luggage weight is unfortunally not approved.\")\n",
    "\n",
    "\n",
    "\n",
    "\n"
   ]
  }
 ],
 "metadata": {
  "language_info": {
   "name": "python"
  },
  "orig_nbformat": 4
 },
 "nbformat": 4,
 "nbformat_minor": 2
}
