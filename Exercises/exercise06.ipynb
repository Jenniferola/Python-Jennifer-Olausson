{
 "cells": [
  {
   "cell_type": "markdown",
   "metadata": {},
   "source": [
    "**1. Area (*)**\n",
    "Create a function that takes the base and height of a triangle as input parameters and returns the area of the triangle."
   ]
  },
  {
   "cell_type": "code",
   "execution_count": 3,
   "metadata": {},
   "outputs": [
    {
     "ename": "TypeError",
     "evalue": "'int' object is not callable",
     "output_type": "error",
     "traceback": [
      "\u001b[1;31m---------------------------------------------------------------------------\u001b[0m",
      "\u001b[1;31mTypeError\u001b[0m                                 Traceback (most recent call last)",
      "Cell \u001b[1;32mIn[3], line 6\u001b[0m\n\u001b[0;32m      3\u001b[0m     \u001b[39mprint\u001b[39m(area)\n\u001b[0;32m      5\u001b[0m area_of_triangle \u001b[39m=\u001b[39m \u001b[39m0\u001b[39m\n\u001b[1;32m----> 6\u001b[0m area_of_triangle(\u001b[39m5\u001b[39;49m,\u001b[39m6\u001b[39;49m)\n",
      "\u001b[1;31mTypeError\u001b[0m: 'int' object is not callable"
     ]
    }
   ],
   "source": [
    "def triangle_area(base,height):\n",
    "    area = base**height/2\n",
    "    print(area)\n",
    "\n",
    "area_of_triangle = 0\n",
    "area_of_triangle(5,6)\n"
   ]
  }
 ],
 "metadata": {
  "kernelspec": {
   "display_name": "Python-Jennifer-Olausson-hAwDm4Uq",
   "language": "python",
   "name": "python3"
  },
  "language_info": {
   "codemirror_mode": {
    "name": "ipython",
    "version": 3
   },
   "file_extension": ".py",
   "mimetype": "text/x-python",
   "name": "python",
   "nbconvert_exporter": "python",
   "pygments_lexer": "ipython3",
   "version": "3.11.5"
  },
  "orig_nbformat": 4
 },
 "nbformat": 4,
 "nbformat_minor": 2
}
