{
 "cells": [
  {
   "cell_type": "markdown",
   "metadata": {},
   "source": [
    "# List exercises"
   ]
  },
  {
   "cell_type": "markdown",
   "metadata": {},
   "source": [
    "**1. Dice rolls (*)**\n",
    "Simulate 10 dice rolls and append the rolls to a list or use list comprehension.\n",
    "\n",
    "  a)   sort the list in ascending order (*)\n",
    "\n",
    "  b)   sort the list in descending order (*)\n",
    "\n",
    "  c)   find the maximum and minimum value in the list (*)"
   ]
  },
  {
   "cell_type": "code",
   "execution_count": 174,
   "metadata": {},
   "outputs": [
    {
     "name": "stdout",
     "output_type": "stream",
     "text": [
      "The dice rolls ascending: \n",
      "[1, 1, 1, 2, 3, 3, 3, 5, 6, 6]\n",
      "The dice rolls descending:\n",
      "[6, 6, 5, 3, 3, 3, 2, 1, 1, 1]\n",
      "The maximum value is 6.\n",
      "The minimum value is 1.\n"
     ]
    }
   ],
   "source": [
    "# a)\n",
    "\n",
    "import random\n",
    "\n",
    "dice_rolls =  []\n",
    "\n",
    "for i in range(10):\n",
    "    roll = random.randint(1, 6)\n",
    "    dice_rolls.append(roll)\n",
    "\n",
    "dice_rolls.sort()\n",
    "\n",
    "print(f\"The dice rolls ascending: \")\n",
    "\n",
    "print(dice_rolls)\n",
    "\n",
    "# b) \n",
    "\n",
    "dice_rolls.reverse()\n",
    "\n",
    "print(\"The dice rolls descending:\")\n",
    "\n",
    "print(dice_rolls)\n",
    "\n",
    "# c)\n",
    "\n",
    "print(f\"The maximum value is {dice_rolls[0]}.\")\n",
    "print(f\"The minimum value is {dice_rolls[9]}.\")\n",
    "\n",
    "\n",
    "\n",
    "\n"
   ]
  },
  {
   "cell_type": "markdown",
   "metadata": {},
   "source": [
    "**2.** Food menu (*)\n",
    "Create a:\n",
    "\n",
    "  a)   list with the following elements: \"vegetarisk lasagne\", \"spaghetti\", \"fisk\", \"grönsakssoppa\", \"pannkakor\". (*)\n",
    "\n",
    "  b)   list with the weekdays (*)\n",
    "\n",
    "  c)   create a food menu with each day corresponding to each food item and print it out. (*)"
   ]
  },
  {
   "cell_type": "code",
   "execution_count": 197,
   "metadata": {},
   "outputs": [
    {
     "name": "stdout",
     "output_type": "stream",
     "text": [
      "['Måndag:', 'vegetarisk lasange', 'Tisdag:', 'spaghetti', 'Onsdag:', 'fisk', 'Torsdag:', 'grönsakssoppa', 'Fredag:', 'pannkakor']\n",
      "Bambameny:\n"
     ]
    },
    {
     "ename": "AttributeError",
     "evalue": "'list' object has no attribute 'join'",
     "output_type": "error",
     "traceback": [
      "\u001b[1;31m---------------------------------------------------------------------------\u001b[0m",
      "\u001b[1;31mAttributeError\u001b[0m                            Traceback (most recent call last)",
      "Cell \u001b[1;32mIn[197], line 19\u001b[0m\n\u001b[0;32m     15\u001b[0m \u001b[39m# c) \u001b[39;00m\n\u001b[0;32m     17\u001b[0m \u001b[39mprint\u001b[39m(\u001b[39m\"\u001b[39m\u001b[39mBambameny:\u001b[39m\u001b[39m\"\u001b[39m)\n\u001b[1;32m---> 19\u001b[0m \u001b[39mprint\u001b[39m(\u001b[39mf\u001b[39m\u001b[39m\"\u001b[39m\u001b[39m{\u001b[39;00mMeals\u001b[39m.\u001b[39;49mjoin([\u001b[39m0\u001b[39m,\u001b[39m \u001b[39m\u001b[39m1\u001b[39m])\u001b[39m}\u001b[39;00m\u001b[39m\"\u001b[39m)\n",
      "\u001b[1;31mAttributeError\u001b[0m: 'list' object has no attribute 'join'"
     ]
    }
   ],
   "source": [
    "# a)\n",
    "\n",
    "Meals = [\"vegetarisk lasange\", \"spaghetti\", \"fisk\", \"grönsakssoppa\", \"pannkakor\"]\n",
    "\n",
    "# b)\n",
    "\n",
    "Meals.insert(0,\"Måndag:\")   \n",
    "Meals.insert(2,\"Tisdag:\") \n",
    "Meals.insert(4,\"Onsdag:\") \n",
    "Meals.insert(6,\"Torsdag:\") \n",
    "Meals.insert(8,\"Fredag:\") \n",
    "\n",
    "print(Meals)\n",
    "\n",
    "# c) Inte färdig!!\n",
    "\n",
    "print(\"Bambameny:\")\n",
    "\n"
   ]
  },
  {
   "cell_type": "markdown",
   "metadata": {},
   "source": []
  }
 ],
 "metadata": {
  "kernelspec": {
   "display_name": "Python-Jennifer-Olausson-hAwDm4Uq",
   "language": "python",
   "name": "python3"
  },
  "language_info": {
   "codemirror_mode": {
    "name": "ipython",
    "version": 3
   },
   "file_extension": ".py",
   "mimetype": "text/x-python",
   "name": "python",
   "nbconvert_exporter": "python",
   "pygments_lexer": "ipython3",
   "version": "3.11.5"
  },
  "orig_nbformat": 4
 },
 "nbformat": 4,
 "nbformat_minor": 2
}
