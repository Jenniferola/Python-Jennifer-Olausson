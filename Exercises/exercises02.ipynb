{
 "cells": [
  {
   "cell_type": "markdown",
   "metadata": {},
   "source": [
    "\n",
    "**While-statements**"
   ]
  },
  {
   "cell_type": "markdown",
   "metadata": {},
   "source": [
    "**1** Use a while statement to count from -10 to 10 with one increment."
   ]
  },
  {
   "cell_type": "code",
   "execution_count": null,
   "metadata": {
    "vscode": {
     "languageId": "plaintext"
    }
   },
   "outputs": [],
   "source": [
    "i = -10\n",
    "\n",
    "while i < 11:\n",
    "    print(f\"{i}\")\n",
    "    i += 1"
   ]
  },
  {
   "cell_type": "markdown",
   "metadata": {},
   "source": [
    "**2.** A) Use a while statement to compute the following sums:"
   ]
  },
  {
   "cell_type": "code",
   "execution_count": null,
   "metadata": {
    "vscode": {
     "languageId": "plaintext"
    }
   },
   "outputs": [],
   "source": [
    "i = 0\n",
    "sum = 0\n",
    "\n",
    "while i <101:\n",
    "    sum = sum + i\n",
    "    i += 1\n",
    "\n",
    "print(f\"{sum}\")"
   ]
  },
  {
   "cell_type": "markdown",
   "metadata": {},
   "source": [
    "B)"
   ]
  },
  {
   "cell_type": "code",
   "execution_count": null,
   "metadata": {
    "vscode": {
     "languageId": "plaintext"
    }
   },
   "outputs": [],
   "source": [
    "i = 1\n",
    "sum = 0\n",
    "\n",
    "while i <100:\n",
    "    sum = sum + i\n",
    "    i += 2\n",
    "\n",
    "print(f\"{sum}\")"
   ]
  },
  {
   "cell_type": "markdown",
   "metadata": {},
   "source": [
    "**3** Create a guessing number game following this flow chart:"
   ]
  },
  {
   "cell_type": "code",
   "execution_count": null,
   "metadata": {
    "vscode": {
     "languageId": "plaintext"
    }
   },
   "outputs": [],
   "source": [
    "import random\n",
    "\n",
    "randomNumber = random.randint(1,101)\n",
    "counter= 0\n",
    "\n",
    "playAgain = \"no\"\n",
    "\n",
    "while True:\n",
    "    userGuess = int(input(\"Guess for the right number?\"))\n",
    "\n",
    "    if randomNumber == userGuess:\n",
    "        print(\"Congratualtion! You guessed the right number!\")\n",
    "        break\n",
    "        \n",
    "    else:\n",
    "        counter += 1\n",
    "        print (f\"It was wrong. Number of guesses: {counter}.\")\n",
    "        playagain = input(\"Would you like to guess again? Write `no` if no.\")\n",
    "        if playAgain == \"no\":\n",
    "                break\n",
    "\n",
    "print(\"End.\")\n",
    "\n",
    "        "
   ]
  },
  {
   "cell_type": "markdown",
   "metadata": {},
   "source": [
    "B) Make an algorithm to automatically guess the correct number. Can you optimize to get as few guesses as possible?"
   ]
  },
  {
   "cell_type": "code",
   "execution_count": null,
   "metadata": {
    "vscode": {
     "languageId": "plaintext"
    }
   },
   "outputs": [],
   "source": [
    "import random\n",
    "\n",
    "randomNumber = random.randint(1,101)\n",
    "\n",
    "guess=1\n",
    "i =0\n",
    "\n",
    "while randomNumber < 102:\n",
    "\n",
    "    guess\n",
    "\n",
    "    if randomNumber == guess:\n",
    "        print(f\"Congratualtion! You guessed the right number! It was {guess}.\")\n",
    "        break\n",
    "    else: \n",
    "        guess += 1   \n",
    "    \n",
    "        \n",
    "        \n",
    "\n",
    "print(\"End.\")\n",
    "\n",
    "        "
   ]
  },
  {
   "cell_type": "markdown",
   "metadata": {},
   "source": [
    "4) Create a multiplication game following this flow chart:"
   ]
  }
 ],
 "metadata": {
  "language_info": {
   "name": "python"
  },
  "orig_nbformat": 4
 },
 "nbformat": 4,
 "nbformat_minor": 2
}
