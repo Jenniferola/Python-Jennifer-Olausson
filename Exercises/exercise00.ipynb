{
 "cells": [
  {
   "cell_type": "code",
   "execution_count": 36,
   "metadata": {},
   "outputs": [],
   "source": [
    "import math\n",
    "# 1 A) Pythagorean theorem c2 =a2 + b2\n",
    "a = 3**2\n",
    "b = 4**2\n",
    "x = a + b\n",
    "hypothenuse = math.sqrt(x)\n",
    "# Svar hypothenuse = 5\n",
    "\n",
    "# B) \n",
    "a = 5.0** 2\n",
    "c = 7.0 ** 2\n",
    "x = c - a\n",
    "\n",
    "b = math.sqrt(x)\n",
    "OneDecimal = round(b,1)\n",
    "\n",
    "#svar B = 4,9 "
   ]
  }
 ],
 "metadata": {
  "kernelspec": {
   "display_name": "Python-Jennifer-Olausson-hAwDm4Uq",
   "language": "python",
   "name": "python3"
  },
  "language_info": {
   "codemirror_mode": {
    "name": "ipython",
    "version": 3
   },
   "file_extension": ".py",
   "mimetype": "text/x-python",
   "name": "python",
   "nbconvert_exporter": "python",
   "pygments_lexer": "ipython3",
   "version": "3.11.5"
  },
  "orig_nbformat": 4
 },
 "nbformat": 4,
 "nbformat_minor": 2
}
