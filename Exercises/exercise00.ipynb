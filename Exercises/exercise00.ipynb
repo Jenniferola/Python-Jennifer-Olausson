{
 "cells": [
  {
   "cell_type": "markdown",
   "metadata": {},
   "source": [
    "# Exercise0\n",
    "## Jennifer Olausson AI23"
   ]
  },
  {
   "cell_type": "markdown",
   "metadata": {},
   "source": [
    "\n",
    "**1. Pythagorean theorem (*)**\n",
    "\n",
    "a)   A right angled triangle has the catheti: a = 3 and b = 4 length units. Compute the hypothenuse of the triangle. (*)\n",
    "\n",
    "  b)   A right angled triangle has hypothenuse c = 7.0 and a cathetus a = 5.0 length units. Compute the other cathetus and round to one decimal. (*)"
   ]
  },
  {
   "cell_type": "code",
   "execution_count": 18,
   "metadata": {},
   "outputs": [
    {
     "name": "stdout",
     "output_type": "stream",
     "text": [
      "The hypothenuse is 5.0.\n",
      "The answer is svar 4.898979485566356.\n"
     ]
    }
   ],
   "source": [
    "\n",
    "import math\n",
    "\n",
    "# A)\n",
    "\n",
    "a = 3**2\n",
    "b = 4**2\n",
    "x = a + b\n",
    "hypothenuse = math.sqrt(x)\n",
    "\n",
    "print(f\"The hypothenuse is {hypothenuse}.\")\n",
    "\n",
    "# B) \n",
    "a = 5.0** 2\n",
    "c = 7.0 ** 2\n",
    "x = c - a\n",
    "\n",
    "b = math.sqrt(x)\n",
    "OneDecimal = round(b,1)\n",
    "\n",
    "print(f\"The answer is svar {b}.\")"
   ]
  },
  {
   "cell_type": "markdown",
   "metadata": {},
   "source": [
    "\n",
    "**2. Classification accuracy (*)**\n",
    "\n",
    "A machine learning algorithm has been trained to predict whether or not it would rain the next day. Out of 365 predictions, it got 300 correct, compute the accuracy of this model."
   ]
  },
  {
   "cell_type": "code",
   "execution_count": 15,
   "metadata": {},
   "outputs": [
    {
     "name": "stdout",
     "output_type": "stream",
     "text": [
      "0.821917808219178\n",
      "The answer is 0.821917808219178 accuracy.\n"
     ]
    }
   ],
   "source": [
    "import math\n",
    "\n",
    "predictions = 365\n",
    "correct = 300\n",
    "\n",
    "accuracy = correct / predictions\n",
    "print (accuracy) \n",
    "\n",
    "print(f\"The answer is {accuracy} accuracy.\")\n"
   ]
  },
  {
   "cell_type": "markdown",
   "metadata": {},
   "source": [
    "**3. Classification accuracy (*)**\n",
    "\n",
    "A machine learning model has been trained to detect fire. Here is the result of its predictions:"
   ]
  },
  {
   "cell_type": "code",
   "execution_count": 14,
   "metadata": {},
   "outputs": [
    {
     "name": "stdout",
     "output_type": "stream",
     "text": [
      "0.987\n",
      "The accuracy is 0.987. Yes, it is a good model.\n"
     ]
    }
   ],
   "source": [
    "TP = 2\n",
    "FP = 2\n",
    "FN = 11\n",
    "TN = 985\n",
    "\n",
    "a = TP + TN \n",
    "b = a + FN + FP\n",
    "accuracy = a / b \n",
    "print(accuracy)\n",
    "\n",
    "print(f\"The accuracy is {accuracy}. Yes, it is a good model.\") "
   ]
  },
  {
   "cell_type": "markdown",
   "metadata": {},
   "source": [
    " \n",
    "**4. Line**"
   ]
  },
  {
   "cell_type": "code",
   "execution_count": 13,
   "metadata": {},
   "outputs": [
    {
     "name": "stdout",
     "output_type": "stream",
     "text": [
      "The slope k is 0.75 and the constant m is 1. The equation is y = 0.75x + 1.\n"
     ]
    }
   ],
   "source": [
    "# Note to myself: y = kx + m.\n",
    "\n",
    "\n",
    "a = 4,4\n",
    "b = 0,1\n",
    "m = 1\n",
    "\n",
    "deltaY = 3\n",
    "deltaX = 4\n",
    "\n",
    "k = deltaY/deltaX\n",
    "\n",
    "print(f\"The slope k is {k} and the constant m is {m}. The equation is y = 0.75x + 1.\")\n"
   ]
  },
  {
   "cell_type": "markdown",
   "metadata": {},
   "source": [
    "**5. Euclidean distance**"
   ]
  },
  {
   "cell_type": "code",
   "execution_count": 43,
   "metadata": {},
   "outputs": [
    {
     "name": "stdout",
     "output_type": "stream",
     "text": [
      "Print a= -5. Print b= -1. Print c= 26.\n",
      "The distance is 5.0990195135927845\n"
     ]
    }
   ],
   "source": [
    "import math\n",
    "\n",
    "# p1 = (3,5), p2 = (-2,4)\n",
    "\n",
    "x1 = 3\n",
    "x2 = -2\n",
    "y1 = 5\n",
    "y2 = 4\n",
    "\n",
    "a = x2-x1\n",
    "b = y2-y1\n",
    "\n",
    "c = a**2 + b**2\n",
    "\n",
    "d = math.sqrt(c)\n",
    "\n",
    "\n",
    "print(f\"The distance is {d}\")\n",
    "\n",
    "# The answer is around 5.1 length units. "
   ]
  },
  {
   "cell_type": "markdown",
   "metadata": {},
   "source": [
    "**6.Euclidean distance in 3D**"
   ]
  },
  {
   "cell_type": "code",
   "execution_count": 39,
   "metadata": {},
   "outputs": [
    {
     "name": "stdout",
     "output_type": "stream",
     "text": [
      "The distance is around 4.123105625617661.\n"
     ]
    }
   ],
   "source": [
    "import math\n",
    "\n",
    "# P1= (3,1,0), P2=(2,1,4) \n",
    "# P1 (x1, y1, z1) P2= (x2, y2, z2)\n",
    "\n",
    "x1 = 3\n",
    "x2 = 2\n",
    "\n",
    "y1 = 1\n",
    "y2 = 1\n",
    "\n",
    "z1 = 0\n",
    "z2 = 4\n",
    "\n",
    "a = x1 - x2\n",
    "b = y1 - y2\n",
    "c = z1 - z2\n",
    "\n",
    "d = a**2 + b**2 + c**2\n",
    "\n",
    "print(f\"The distance is around {math.sqrt(d)}.\")\n",
    "\n",
    "# Answer: The distance is around 4.12 l.u.\n",
    "\n",
    "\n"
   ]
  }
 ],
 "metadata": {
  "kernelspec": {
   "display_name": "Python-Jennifer-Olausson-hAwDm4Uq",
   "language": "python",
   "name": "python3"
  },
  "language_info": {
   "codemirror_mode": {
    "name": "ipython",
    "version": 3
   },
   "file_extension": ".py",
   "mimetype": "text/x-python",
   "name": "python",
   "nbconvert_exporter": "python",
   "pygments_lexer": "ipython3",
   "version": "3.11.5"
  },
  "orig_nbformat": 4
 },
 "nbformat": 4,
 "nbformat_minor": 2
}
