{
 "cells": [
  {
   "cell_type": "markdown",
   "metadata": {},
   "source": [
    "# Strings exercises"
   ]
  },
  {
   "cell_type": "markdown",
   "metadata": {},
   "source": [
    "**1.** Counting letters (*)\n",
    "Let the user input a word:\n",
    "\n",
    "  a)   print out the number of letters in the word. (*)\n",
    "\n",
    "  b)   print out the number of uppercase and lowercase letters of the word (*)"
   ]
  }
 ],
 "metadata": {
  "language_info": {
   "name": "python"
  },
  "orig_nbformat": 4
 },
 "nbformat": 4,
 "nbformat_minor": 2
}
