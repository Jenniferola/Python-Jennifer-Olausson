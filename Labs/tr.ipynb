{
 "cells": [
  {
   "cell_type": "code",
   "execution_count": null,
   "metadata": {},
   "outputs": [],
   "source": [
    "## Test för funktion\n",
    "def read_csv_file (file_name, name):\n",
    "    with open(file_name) as file:\n",
    "        name = csv.DictReader(file)\n",
    "\n",
    "\n",
    "    # Adding the data from datapoints.csv to a list with 3 dictionaries. Strip() takes away the whitespeca and the strings are converted to float or int.\n",
    "    for row in reader:\n",
    "        pokemons.append({\"width\" : float(row[\"(width (cm)\"].strip()), \"height\" : float(row[\" height (cm)\"].strip()), \"label\" : int(row[\" label (0-pichu\"].strip())})\n"
   ]
  },
  {
   "cell_type": "markdown",
   "metadata": {},
   "source": [
    "to do labb 2=\n",
    "- add functions to open file."
   ]
  }
 ],
 "metadata": {
  "language_info": {
   "name": "python"
  },
  "orig_nbformat": 4
 },
 "nbformat": 4,
 "nbformat_minor": 2
}
