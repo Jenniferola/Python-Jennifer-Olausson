{
 "cells": [
  {
   "cell_type": "markdown",
   "metadata": {},
   "source": [
    "# Arbetsflöde för AI-projekt"
   ]
  },
  {
   "cell_type": "markdown",
   "metadata": {},
   "source": [
    "I den uppgiften ska jag berätta om de vanligaste arbetsstegen inom maskininlärningsalgoritmen linjär regression. Fallet som ska undersökas är att förutspå huspriser utifrån så kallade ”features” som exempelvis storleken på huset, antal rum samt geografiskt läge. \n",
    "\n",
    "Det finns många olika modeller som man kan använda inom maskininlärning för att göra förutsägelser, men alla är bra på olika saker. Den linjära regressionsmodellen är ett bra alternativ för linjära samband (källa?). Ett linjärt samband är när förändringen är samma (källa mattebok).  \n",
    "\n"
   ]
  }
 ],
 "metadata": {
  "language_info": {
   "name": "python"
  },
  "orig_nbformat": 4
 },
 "nbformat": 4,
 "nbformat_minor": 2
}
